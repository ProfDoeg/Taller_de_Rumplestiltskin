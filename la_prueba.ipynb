{
  "nbformat": 4,
  "nbformat_minor": 0,
  "metadata": {
    "colab": {
      "provenance": [],
      "authorship_tag": "ABX9TyNKaTUHt6gpz5hAOVIvoVzl",
      "include_colab_link": true
    },
    "kernelspec": {
      "name": "python3",
      "display_name": "Python 3"
    },
    "language_info": {
      "name": "python"
    }
  },
  "cells": [
    {
      "cell_type": "markdown",
      "metadata": {
        "id": "view-in-github",
        "colab_type": "text"
      },
      "source": [
        "<a href=\"https://colab.research.google.com/github/ProfDoeg/Taller_de_Rumplestiltskin/blob/main/la_prueba.ipynb\" target=\"_parent\"><img src=\"https://colab.research.google.com/assets/colab-badge.svg\" alt=\"Open In Colab\"/></a>"
      ]
    },
    {
      "cell_type": "code",
      "execution_count": 2,
      "metadata": {
        "id": "oS_SkWjzEHgJ",
        "outputId": "3c2a206d-4f22-459f-a4aa-a8d7aefb205e",
        "colab": {
          "base_uri": "https://localhost:8080/"
        }
      },
      "outputs": [
        {
          "output_type": "stream",
          "name": "stdout",
          "text": [
            "Looking in indexes: https://pypi.org/simple, https://us-python.pkg.dev/colab-wheels/public/simple/\n",
            "Requirement already satisfied: eciespy in /usr/local/lib/python3.8/dist-packages (0.3.13)\n",
            "Requirement already satisfied: eth_keys in /usr/local/lib/python3.8/dist-packages (0.4.0)\n",
            "Requirement already satisfied: cryptos in /usr/local/lib/python3.8/dist-packages (1.36)\n",
            "Requirement already satisfied: qrcode in /usr/local/lib/python3.8/dist-packages (7.3.1)\n",
            "Requirement already satisfied: coincurve<18,>=13 in /usr/local/lib/python3.8/dist-packages (from eciespy) (17.0.0)\n",
            "Requirement already satisfied: pycryptodome<4.0.0,>=3.15.0 in /usr/local/lib/python3.8/dist-packages (from eciespy) (3.16.0)\n",
            "Requirement already satisfied: eth-typing<4,>=3.0.0 in /usr/local/lib/python3.8/dist-packages (from eth_keys) (3.2.0)\n",
            "Requirement already satisfied: eth-utils<3.0.0,>=2.0.0 in /usr/local/lib/python3.8/dist-packages (from eth_keys) (2.1.0)\n",
            "Requirement already satisfied: asn1crypto in /usr/local/lib/python3.8/dist-packages (from coincurve<18,>=13->eciespy) (1.5.1)\n",
            "Requirement already satisfied: cffi>=1.3.0 in /usr/local/lib/python3.8/dist-packages (from coincurve<18,>=13->eciespy) (1.15.1)\n",
            "Requirement already satisfied: pycparser in /usr/local/lib/python3.8/dist-packages (from cffi>=1.3.0->coincurve<18,>=13->eciespy) (2.21)\n",
            "Requirement already satisfied: eth-hash>=0.3.1 in /usr/local/lib/python3.8/dist-packages (from eth-utils<3.0.0,>=2.0.0->eth_keys) (0.5.1)\n",
            "Requirement already satisfied: cytoolz>=0.10.1 in /usr/local/lib/python3.8/dist-packages (from eth-utils<3.0.0,>=2.0.0->eth_keys) (0.12.0)\n",
            "Requirement already satisfied: toolz>=0.8.0 in /usr/local/lib/python3.8/dist-packages (from cytoolz>=0.10.1->eth-utils<3.0.0,>=2.0.0->eth_keys) (0.12.0)\n",
            "fatal: destination path 'Colegio_Invisible' already exists and is not an empty directory.\n"
          ]
        }
      ],
      "source": [
        "! pip install eciespy eth_keys cryptos qrcode\n",
        "! git clone https://github.com/ProfDoeg/Colegio_Invisible.git\n",
        "! cp Colegio_Invisible/modules/colegio_tools.py colegio_tools.py"
      ]
    },
    {
      "cell_type": "code",
      "source": [
        "from colegio_tools import *\n",
        "import hashlib"
      ],
      "metadata": {
        "id": "v2Wk8jOeEV_4"
      },
      "execution_count": 3,
      "outputs": []
    },
    {
      "cell_type": "code",
      "source": [
        "prueba_txid='1ec0ee9b27d6ab91169b28f3acdada51cab8eb03af8c2a7e128d122a2dba7d0c'\n",
        "(prueba_cabeza,prueba_cuerpo)=read_cadenas(prueba_txid)"
      ],
      "metadata": {
        "id": "g7xsuIUOEgcg"
      },
      "execution_count": 5,
      "outputs": []
    },
    {
      "cell_type": "code",
      "source": [
        "print(prueba_cabeza[:16])"
      ],
      "metadata": {
        "colab": {
          "base_uri": "https://localhost:8080/"
        },
        "id": "YlE3-1fyHAQP",
        "outputId": "af9cabc1-4533-4a30-df46-2bc0ab968ecb"
      },
      "execution_count": 6,
      "outputs": [
        {
          "output_type": "stream",
          "name": "stdout",
          "text": [
            "c1dd0001ccff0001\n"
          ]
        }
      ]
    },
    {
      "cell_type": "code",
      "source": [
        "print(bytes.fromhex(prueba_cabeza[16:]))"
      ],
      "metadata": {
        "colab": {
          "base_uri": "https://localhost:8080/"
        },
        "id": "SlNM_bVQHGmz",
        "outputId": "e05e61ee-6132-47d8-863e-4b3403918128"
      },
      "execution_count": 7,
      "outputs": [
        {
          "output_type": "stream",
          "name": "stdout",
          "text": [
            "b'|SHA256|337095adb739572e5566416637a4e8905f0fda28a804999a3e472b024c5a1ba0'\n"
          ]
        }
      ]
    },
    {
      "cell_type": "code",
      "source": [
        "hash=hashlib.sha256(prueba_cuerpo)\n",
        "print(hash.hexdigest())"
      ],
      "metadata": {
        "colab": {
          "base_uri": "https://localhost:8080/"
        },
        "id": "MnGg8OZBHh4m",
        "outputId": "3176188e-eb26-42b1-f61f-13b21a41d6bf"
      },
      "execution_count": 8,
      "outputs": [
        {
          "output_type": "stream",
          "name": "stdout",
          "text": [
            "337095adb739572e5566416637a4e8905f0fda28a804999a3e472b024c5a1ba0\n"
          ]
        }
      ]
    },
    {
      "cell_type": "code",
      "source": [
        "prueba_key_dict=dict([tuple(elem.replace('0x','04').split(':')) for elem in prueba_cuerpo.decode().split('\\n') if 'Public' in elem])\n",
        "prueba_key_dict"
      ],
      "metadata": {
        "colab": {
          "base_uri": "https://localhost:8080/"
        },
        "id": "Yy7rcpB3IFxV",
        "outputId": "c70ef0b5-1f51-4cea-8cb8-a4443a6033fa"
      },
      "execution_count": 30,
      "outputs": [
        {
          "output_type": "execute_result",
          "data": {
            "text/plain": [
              "{'Hayagriva_Public': '04505d743671977487913280812271df3e8b27126788d03b5dd84430280b710b20584a8c442082960a67214fba8f45e97c7aeca15a6a59ba98f830dfe9e487d8cd',\n",
              " 'Christophia_Public': '046bb329760057768325b73b3420650c0d077790ce78a54a5f40630a5342d11310b24308716b30b3e86539964f701e4e570ce497b6073c652ab153dbe676b57970',\n",
              " 'Anthony_Public': '04cd477d18b1ed8549fd6d9d576c8378deed4df4a926f0fe8ea9dbde07a72bb5911bf9a1f380ea24adabff0b91eb5525e4526f22d9ed1e3bcbebe97093d4871f53'}"
            ]
          },
          "metadata": {},
          "execution_count": 30
        }
      ]
    },
    {
      "cell_type": "code",
      "source": [
        "import requests\n",
        "import json\n",
        "r = requests.get(f'https://sochain.com/api/v2/tx/DOGE/{prueba_txid}')\n",
        "prueba_tx_script=json.loads(r.text)['data']['inputs'][0]['script_hex']\n",
        "prueba_tx_script"
      ],
      "metadata": {
        "id": "YbWf3WCfLRdL",
        "outputId": "4d30ed43-29e3-4f95-c6d1-92edf4c71bdf",
        "colab": {
          "base_uri": "https://localhost:8080/",
          "height": 142
        }
      },
      "execution_count": 32,
      "outputs": [
        {
          "output_type": "execute_result",
          "data": {
            "text/plain": [
              "'00483045022100b9c3dfb3000786b32fe380e6711f30d9e153fe621f94ef08516841c79b71c9ba02201137b430f845a1d4a789d772d83f0e8e043e3d0f26a9f2e34823c7cfd954768501483045022100d047246ad04e719f63a19b0452f8d6fc41a636da804603c6038ae645d8dbbe650220782dc5000ca3e5655c4244ba8465d3226605159de22c32b6dfcb26f9f5d5e72501483045022100d242b99d4dcd85a21a749cedfe8cd88991603327fb7407dcd92e81553c2cc4c8022063f24500e3aff6b174be4b0d7dd4db68930cf40b9b0f98f206019383ecfee5c4014cc9534104505d743671977487913280812271df3e8b27126788d03b5dd84430280b710b20584a8c442082960a67214fba8f45e97c7aeca15a6a59ba98f830dfe9e487d8cd41046bb329760057768325b73b3420650c0d077790ce78a54a5f40630a5342d11310b24308716b30b3e86539964f701e4e570ce497b6073c652ab153dbe676b579704104cd477d18b1ed8549fd6d9d576c8378deed4df4a926f0fe8ea9dbde07a72bb5911bf9a1f380ea24adabff0b91eb5525e4526f22d9ed1e3bcbebe97093d4871f5353ae'"
            ],
            "application/vnd.google.colaboratory.intrinsic+json": {
              "type": "string"
            }
          },
          "metadata": {},
          "execution_count": 32
        }
      ]
    },
    {
      "cell_type": "code",
      "source": [
        "all([ key in prueba_tx_script for key in  prueba_key_dict.values()])"
      ],
      "metadata": {
        "id": "Z1P8Cf0DHarF",
        "outputId": "10063cd0-e1d9-4465-ba9f-df77b28c46a2",
        "colab": {
          "base_uri": "https://localhost:8080/"
        }
      },
      "execution_count": 33,
      "outputs": [
        {
          "output_type": "execute_result",
          "data": {
            "text/plain": [
              "True"
            ]
          },
          "metadata": {},
          "execution_count": 33
        }
      ]
    },
    {
      "cell_type": "code",
      "source": [],
      "metadata": {
        "id": "rDfTQ0sJM22h"
      },
      "execution_count": null,
      "outputs": []
    }
  ]
}