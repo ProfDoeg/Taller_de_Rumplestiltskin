{
  "nbformat": 4,
  "nbformat_minor": 0,
  "metadata": {
    "colab": {
      "provenance": [],
      "authorship_tag": "ABX9TyOFkIzlT/OxcwaPLqno0lbI",
      "include_colab_link": true
    },
    "kernelspec": {
      "name": "python3",
      "display_name": "Python 3"
    },
    "language_info": {
      "name": "python"
    }
  },
  "cells": [
    {
      "cell_type": "markdown",
      "metadata": {
        "id": "view-in-github",
        "colab_type": "text"
      },
      "source": [
        "<a href=\"https://colab.research.google.com/github/ProfDoeg/Taller_de_Rumplestiltskin/blob/main/la_prueba.ipynb\" target=\"_parent\"><img src=\"https://colab.research.google.com/assets/colab-badge.svg\" alt=\"Open In Colab\"/></a>"
      ]
    },
    {
      "cell_type": "code",
      "execution_count": null,
      "metadata": {
        "id": "oS_SkWjzEHgJ"
      },
      "outputs": [],
      "source": [
        "! pip install eciespy eth_keys cryptos qrcode\n",
        "! git clone https://github.com/ProfDoeg/Colegio_Invisible.git\n",
        "! cp Colegio_Invisible/modules/colegio_tools.py colegio_tools.py"
      ]
    },
    {
      "cell_type": "code",
      "source": [
        "from colegio_tools import *\n",
        "import hashlib"
      ],
      "metadata": {
        "id": "v2Wk8jOeEV_4"
      },
      "execution_count": 21,
      "outputs": []
    },
    {
      "cell_type": "code",
      "source": [
        "prueba_txid='1ec0ee9b27d6ab91169b28f3acdada51cab8eb03af8c2a7e128d122a2dba7d0c'\n",
        "(prueba_cabeza,prueba_cuerpo)=read_cadenas(prueba_txid)"
      ],
      "metadata": {
        "id": "g7xsuIUOEgcg"
      },
      "execution_count": 5,
      "outputs": []
    },
    {
      "cell_type": "code",
      "source": [
        "print(prueba_cabeza[:16])"
      ],
      "metadata": {
        "colab": {
          "base_uri": "https://localhost:8080/"
        },
        "id": "YlE3-1fyHAQP",
        "outputId": "cf9217c0-3a53-41e7-84a5-00a16db31fe6"
      },
      "execution_count": 11,
      "outputs": [
        {
          "output_type": "stream",
          "name": "stdout",
          "text": [
            "c1dd0001ccff0001\n"
          ]
        }
      ]
    },
    {
      "cell_type": "code",
      "source": [
        "print(bytes.fromhex(prueba_cabeza[16:]))"
      ],
      "metadata": {
        "colab": {
          "base_uri": "https://localhost:8080/"
        },
        "id": "SlNM_bVQHGmz",
        "outputId": "0afc3d23-81a7-4291-ccd9-0bfc851b5dde"
      },
      "execution_count": 12,
      "outputs": [
        {
          "output_type": "stream",
          "name": "stdout",
          "text": [
            "b'|SHA256|337095adb739572e5566416637a4e8905f0fda28a804999a3e472b024c5a1ba0'\n"
          ]
        }
      ]
    },
    {
      "cell_type": "code",
      "source": [
        "hash=hashlib.sha256(prueba_cuerpo)\n",
        "print(hash.hexdigest())"
      ],
      "metadata": {
        "colab": {
          "base_uri": "https://localhost:8080/"
        },
        "id": "MnGg8OZBHh4m",
        "outputId": "44c01899-013b-4d43-ff64-35ba74f31db0"
      },
      "execution_count": 40,
      "outputs": [
        {
          "output_type": "stream",
          "name": "stdout",
          "text": [
            "337095adb739572e5566416637a4e8905f0fda28a804999a3e472b024c5a1ba0\n"
          ]
        }
      ]
    },
    {
      "cell_type": "code",
      "source": [
        "prueba_dict=dict([tuple(elem.replace('0x','04').split(':')) for elem in prueba_cuerpo.decode().split('\\n')])\n",
        "[ print(key,':',prueba_dict[key]) for key in prueba_dict if 'Public' in key]"
      ],
      "metadata": {
        "colab": {
          "base_uri": "https://localhost:8080/"
        },
        "id": "Yy7rcpB3IFxV",
        "outputId": "f611e59f-9847-4035-cc75-f20df5be4721"
      },
      "execution_count": 39,
      "outputs": [
        {
          "output_type": "stream",
          "name": "stdout",
          "text": [
            "Hayagriva_Public : 04505d743671977487913280812271df3e8b27126788d03b5dd84430280b710b20584a8c442082960a67214fba8f45e97c7aeca15a6a59ba98f830dfe9e487d8cd\n",
            "Christophia_Public : 046bb329760057768325b73b3420650c0d077790ce78a54a5f40630a5342d11310b24308716b30b3e86539964f701e4e570ce497b6073c652ab153dbe676b57970\n",
            "Anthony_Public : 04cd477d18b1ed8549fd6d9d576c8378deed4df4a926f0fe8ea9dbde07a72bb5911bf9a1f380ea24adabff0b91eb5525e4526f22d9ed1e3bcbebe97093d4871f53\n"
          ]
        },
        {
          "output_type": "execute_result",
          "data": {
            "text/plain": [
              "[None, None, None]"
            ]
          },
          "metadata": {},
          "execution_count": 39
        }
      ]
    },
    {
      "cell_type": "code",
      "source": [],
      "metadata": {
        "id": "YbWf3WCfLRdL"
      },
      "execution_count": null,
      "outputs": []
    }
  ]
}