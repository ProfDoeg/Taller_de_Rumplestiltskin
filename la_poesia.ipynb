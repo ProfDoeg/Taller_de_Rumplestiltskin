{
  "nbformat": 4,
  "nbformat_minor": 0,
  "metadata": {
    "colab": {
      "provenance": [],
      "authorship_tag": "ABX9TyMP+l+lgAGKu0466oRjZyOZ",
      "include_colab_link": true
    },
    "kernelspec": {
      "name": "python3",
      "display_name": "Python 3"
    },
    "language_info": {
      "name": "python"
    }
  },
  "cells": [
    {
      "cell_type": "markdown",
      "metadata": {
        "id": "view-in-github",
        "colab_type": "text"
      },
      "source": [
        "<a href=\"https://colab.research.google.com/github/ProfDoeg/Taller_de_Rumplestiltskin/blob/main/la_poesia.ipynb\" target=\"_parent\"><img src=\"https://colab.research.google.com/assets/colab-badge.svg\" alt=\"Open In Colab\"/></a>"
      ]
    },
    {
      "cell_type": "code",
      "execution_count": 1,
      "metadata": {
        "colab": {
          "base_uri": "https://localhost:8080/"
        },
        "id": "2XyQwD77fGe-",
        "outputId": "a3ddbe1c-0e95-4265-d32c-0a302b2664a0"
      },
      "outputs": [
        {
          "output_type": "stream",
          "name": "stdout",
          "text": [
            "Looking in indexes: https://pypi.org/simple, https://us-python.pkg.dev/colab-wheels/public/simple/\n",
            "Collecting eciespy\n",
            "  Downloading eciespy-0.3.13-py3-none-any.whl (11 kB)\n",
            "Collecting eth_keys\n",
            "  Downloading eth_keys-0.4.0-py3-none-any.whl (21 kB)\n",
            "Collecting cryptos\n",
            "  Downloading cryptos-1.36-py3-none-any.whl (69 kB)\n",
            "\u001b[K     |████████████████████████████████| 69 kB 2.6 MB/s \n",
            "\u001b[?25hCollecting qrcode\n",
            "  Downloading qrcode-7.3.1.tar.gz (43 kB)\n",
            "\u001b[K     |████████████████████████████████| 43 kB 885 kB/s \n",
            "\u001b[?25hCollecting pycryptodome<4.0.0,>=3.15.0\n",
            "  Downloading pycryptodome-3.16.0-cp35-abi3-manylinux_2_5_x86_64.manylinux1_x86_64.manylinux_2_12_x86_64.manylinux2010_x86_64.whl (2.3 MB)\n",
            "\u001b[K     |████████████████████████████████| 2.3 MB 63.6 MB/s \n",
            "\u001b[?25hCollecting coincurve<18,>=13\n",
            "  Downloading coincurve-17.0.0-cp38-cp38-manylinux_2_17_x86_64.manylinux2014_x86_64.whl (1.3 MB)\n",
            "\u001b[K     |████████████████████████████████| 1.3 MB 28.4 MB/s \n",
            "\u001b[?25hCollecting eth-utils<3.0.0,>=2.0.0\n",
            "  Downloading eth_utils-2.1.0-py3-none-any.whl (24 kB)\n",
            "Collecting eth-typing<4,>=3.0.0\n",
            "  Downloading eth_typing-3.2.0-py3-none-any.whl (6.3 kB)\n",
            "Requirement already satisfied: cffi>=1.3.0 in /usr/local/lib/python3.8/dist-packages (from coincurve<18,>=13->eciespy) (1.15.1)\n",
            "Collecting asn1crypto\n",
            "  Downloading asn1crypto-1.5.1-py2.py3-none-any.whl (105 kB)\n",
            "\u001b[K     |████████████████████████████████| 105 kB 24.1 MB/s \n",
            "\u001b[?25hRequirement already satisfied: pycparser in /usr/local/lib/python3.8/dist-packages (from cffi>=1.3.0->coincurve<18,>=13->eciespy) (2.21)\n",
            "Collecting eth-hash>=0.3.1\n",
            "  Downloading eth_hash-0.5.1-py3-none-any.whl (9.0 kB)\n",
            "Collecting cytoolz>=0.10.1\n",
            "  Downloading cytoolz-0.12.0-cp38-cp38-manylinux_2_17_x86_64.manylinux2014_x86_64.whl (1.8 MB)\n",
            "\u001b[K     |████████████████████████████████| 1.8 MB 38.3 MB/s \n",
            "\u001b[?25hRequirement already satisfied: toolz>=0.8.0 in /usr/local/lib/python3.8/dist-packages (from cytoolz>=0.10.1->eth-utils<3.0.0,>=2.0.0->eth_keys) (0.12.0)\n",
            "Building wheels for collected packages: qrcode\n",
            "  Building wheel for qrcode (setup.py) ... \u001b[?25l\u001b[?25hdone\n",
            "  Created wheel for qrcode: filename=qrcode-7.3.1-py3-none-any.whl size=40400 sha256=8429d27d339df393494fa0f1237d8cefe806f3a0fe0b293825f5948e25022fed\n",
            "  Stored in directory: /root/.cache/pip/wheels/35/fd/04/2768886c56207acee0d6dc6b9bd5d06dac63a810f0c0a42516\n",
            "Successfully built qrcode\n",
            "Installing collected packages: eth-typing, eth-hash, cytoolz, eth-utils, asn1crypto, pycryptodome, eth-keys, coincurve, qrcode, eciespy, cryptos\n",
            "Successfully installed asn1crypto-1.5.1 coincurve-17.0.0 cryptos-1.36 cytoolz-0.12.0 eciespy-0.3.13 eth-hash-0.5.1 eth-keys-0.4.0 eth-typing-3.2.0 eth-utils-2.1.0 pycryptodome-3.16.0 qrcode-7.3.1\n",
            "Cloning into 'Taller_de_Rumplestiltskin'...\n",
            "remote: Enumerating objects: 43, done.\u001b[K\n",
            "remote: Counting objects: 100% (43/43), done.\u001b[K\n",
            "remote: Compressing objects: 100% (37/37), done.\u001b[K\n",
            "remote: Total 43 (delta 16), reused 0 (delta 0), pack-reused 0\u001b[K\n",
            "Unpacking objects: 100% (43/43), done.\n"
          ]
        }
      ],
      "source": [
        "! pip install eciespy eth_keys cryptos qrcode\n",
        "! git clone https://github.com/ProfDoeg/Taller_de_Rumplestiltskin.git\n",
        "! cp Taller_de_Rumplestiltskin/modules/colegio_tools.py colegio_tools.py"
      ]
    },
    {
      "cell_type": "markdown",
      "source": [
        "# Import the Public Keys from the Certificate"
      ],
      "metadata": {
        "id": "mitGKCKIyV1B"
      }
    },
    {
      "cell_type": "code",
      "source": [
        "from colegio_tools import *\n",
        "import requests\n",
        "import json\n",
        "prueba_txid='1ec0ee9b27d6ab91169b28f3acdada51cab8eb03af8c2a7e128d122a2dba7d0c'\n",
        "(prueba_cabeza,prueba_cuerpo)=read_cadenas(prueba_txid)\n",
        "prueba_key_dict=dict([tuple(elem.replace('0x','04').split(':')) for elem in prueba_cuerpo.decode().split('\\n') if 'Public' in elem])"
      ],
      "metadata": {
        "id": "e8YHuW5tfWgl"
      },
      "execution_count": 14,
      "outputs": []
    },
    {
      "cell_type": "markdown",
      "source": [
        "# Identify the Transaction Identifiers of the Poems"
      ],
      "metadata": {
        "id": "-CKeBCxNy2JO"
      }
    },
    {
      "cell_type": "code",
      "source": [
        "mi_caballo_txid='d46981477268a32b560f64249dfbb5d6c30a596ef71b0f87a8de1fcf14b9675f'\n",
        "mi_perrito_txid='62e8f73554688dddc919d0e9369c4788a8c3e8bf06f1247bc35e88a284355eac'"
      ],
      "metadata": {
        "id": "9t0_Q-_xgCTW"
      },
      "execution_count": 3,
      "outputs": []
    },
    {
      "cell_type": "markdown",
      "source": [
        "# Poem by Christophia to Hayagriva\n",
        "\n",
        "## Read the Poem"
      ],
      "metadata": {
        "id": "13LFvtNKy9m7"
      }
    },
    {
      "cell_type": "code",
      "source": [
        "(mi_caballo_cabeza,mi_caballo_cuerpo)=read_cadenas(mi_caballo_txid)\n",
        "print(bytes.fromhex(mi_caballo_cabeza[12:]).decode(),'\\n')\n",
        "print(mi_caballo_cuerpo.decode())"
      ],
      "metadata": {
        "colab": {
          "base_uri": "https://localhost:8080/"
        },
        "id": "kzbkoT1Hfgm1",
        "outputId": "53fe1c16-cd4e-4f61-bcba-3c3e61071691"
      },
      "execution_count": 12,
      "outputs": [
        {
          "output_type": "stream",
          "name": "stdout",
          "text": [
            "|Mi Caballo| \n",
            "\n",
            "mi caballo\n",
            "que linda tu cabella\n",
            "que grande tu cabeza\n",
            "eres mi amiga\n",
            "\n",
            "la bruja me dija somos estrellas\n",
            "y pasajeros en el rio tanto lechoso\n",
            "soy el cruzado y vos la buceadora\n",
            "nosotros jugamos demasiado\n",
            "\n",
            "mira mira !! muchas caballas\n",
            "mira mira !! el libro de vedas\n",
            "miré el agua, estabas debajo\n",
            "que linda tu cara cuando devueltas\n"
          ]
        }
      ]
    },
    {
      "cell_type": "markdown",
      "source": [
        "## Verify the Signatures"
      ],
      "metadata": {
        "id": "Vy_d-JENzXSi"
      }
    },
    {
      "cell_type": "code",
      "source": [
        "r = requests.get(f'https://sochain.com/api/v2/tx/DOGE/{mi_caballo_txid}')\n",
        "mi_caballo_tx_script=json.loads(r.text)['data']['inputs'][0]['script_hex']\n",
        "mi_caballo_tx_script"
      ],
      "metadata": {
        "colab": {
          "base_uri": "https://localhost:8080/",
          "height": 89
        },
        "id": "gkztWuD9unvO",
        "outputId": "86ce06ad-d605-4ef0-e0b5-93f8e46483f9"
      },
      "execution_count": 15,
      "outputs": [
        {
          "output_type": "execute_result",
          "data": {
            "text/plain": [
              "'00473044022030d9bc4490ddb92a85905ec23ed7a319a71061a5728904d025046f70b0bf5a1a022074ae4e8f6cca3a9790f1623251553fbb40daabc470bef9a4612fc8a614d342790147304402204be34ea9de08d395b5a39eface718602f87680b5522263938af917e43ce1f5b5022018fdede8ce0719e1115974f077b0175bb3e31de5eb789de833e2ea8e64f719a4014c875241046bb329760057768325b73b3420650c0d077790ce78a54a5f40630a5342d11310b24308716b30b3e86539964f701e4e570ce497b6073c652ab153dbe676b579704104cd477d18b1ed8549fd6d9d576c8378deed4df4a926f0fe8ea9dbde07a72bb5911bf9a1f380ea24adabff0b91eb5525e4526f22d9ed1e3bcbebe97093d4871f5352ae'"
            ],
            "application/vnd.google.colaboratory.intrinsic+json": {
              "type": "string"
            }
          },
          "metadata": {},
          "execution_count": 15
        }
      ]
    },
    {
      "cell_type": "code",
      "source": [
        "all([ key in mi_caballo_tx_script for key in  [prueba_key_dict['Christophia_Public'],prueba_key_dict['Anthony_Public']] ])"
      ],
      "metadata": {
        "colab": {
          "base_uri": "https://localhost:8080/"
        },
        "id": "HxatVU-pwK04",
        "outputId": "27af1ffb-85c7-4763-faa2-0da289c06f51"
      },
      "execution_count": 18,
      "outputs": [
        {
          "output_type": "execute_result",
          "data": {
            "text/plain": [
              "True"
            ]
          },
          "metadata": {},
          "execution_count": 18
        }
      ]
    },
    {
      "cell_type": "markdown",
      "source": [
        "# Poem by Hayagriva to Christophia\n",
        "\n",
        "## Read the Poem"
      ],
      "metadata": {
        "id": "77KqnOsIzcxx"
      }
    },
    {
      "cell_type": "code",
      "source": [
        "(mi_perrito_cabeza,mi_perrito_cuerpo)=read_cadenas(mi_perrito_txid)\n",
        "print(bytes.fromhex(mi_perrito_cabeza[12:]).decode(),'\\n')\n",
        "print(mi_perrito_cuerpo.decode())"
      ],
      "metadata": {
        "colab": {
          "base_uri": "https://localhost:8080/"
        },
        "id": "DmYkxzEouHEa",
        "outputId": "2a2d3928-68e7-4992-858d-1a308e2c9631"
      },
      "execution_count": 13,
      "outputs": [
        {
          "output_type": "stream",
          "name": "stdout",
          "text": [
            "|Mi Perrito| \n",
            "\n",
            "mi perrito\n",
            "que bravo es el cuerpo\n",
            "que poder en la mirada\n",
            "eres mi pareja\n",
            "\n",
            "el quipucamayoc dice que somos de cadenas\n",
            "nudos y desnudos enformadas de la nada\n",
            "soy la lectora, y vos la escritora\n",
            "nosotras saltamos, es solo un juego\n",
            "\n",
            "pare, pare sigando la coneja\n",
            "pare, pare, y súbete mi espalda\n",
            "para encontrarlo besar mi cuello\n",
            "el nombre esta tejido en lahks de mi pelo\n"
          ]
        }
      ]
    },
    {
      "cell_type": "markdown",
      "source": [
        "## Verify the Poem"
      ],
      "metadata": {
        "id": "3POpbgZtzlil"
      }
    },
    {
      "cell_type": "code",
      "source": [
        "r = requests.get(f'https://sochain.com/api/v2/tx/DOGE/{mi_perrito_txid}')\n",
        "mi_perrito_tx_script=json.loads(r.text)['data']['inputs'][0]['script_hex']\n",
        "mi_perrito_tx_script"
      ],
      "metadata": {
        "colab": {
          "base_uri": "https://localhost:8080/",
          "height": 89
        },
        "id": "xkh-hY5DhrRq",
        "outputId": "3efa8559-9b15-4b82-f6e9-4399aa0ce627"
      },
      "execution_count": 19,
      "outputs": [
        {
          "output_type": "execute_result",
          "data": {
            "text/plain": [
              "'00483045022100be858a05a9fdb4b69fd6fcc7cbf7fefce9676439148a937df65d84ab88e4f6a402205e1ea33556faea11f2a9f7331defc5eaa03d86aaa1d64cf73533abf3f64aa99c01483045022100ee3cc0829501ec71e2534237a12493818d523dac8caef7d36a9dd15a2bed0c59022024ece509b644161b05ea45b7daad3eca5d5ea92ac83dc0a31b71531a41e4e31d014c87524104505d743671977487913280812271df3e8b27126788d03b5dd84430280b710b20584a8c442082960a67214fba8f45e97c7aeca15a6a59ba98f830dfe9e487d8cd4104cd477d18b1ed8549fd6d9d576c8378deed4df4a926f0fe8ea9dbde07a72bb5911bf9a1f380ea24adabff0b91eb5525e4526f22d9ed1e3bcbebe97093d4871f5352ae'"
            ],
            "application/vnd.google.colaboratory.intrinsic+json": {
              "type": "string"
            }
          },
          "metadata": {},
          "execution_count": 19
        }
      ]
    },
    {
      "cell_type": "code",
      "source": [
        "all([ key in mi_perrito_tx_script for key in  [prueba_key_dict['Hayagriva_Public'],prueba_key_dict['Anthony_Public']] ])"
      ],
      "metadata": {
        "colab": {
          "base_uri": "https://localhost:8080/"
        },
        "id": "1g5stdATwwlK",
        "outputId": "0dd820a9-bb6c-4f65-fa0f-9d74c7695061"
      },
      "execution_count": 20,
      "outputs": [
        {
          "output_type": "execute_result",
          "data": {
            "text/plain": [
              "True"
            ]
          },
          "metadata": {},
          "execution_count": 20
        }
      ]
    },
    {
      "cell_type": "code",
      "source": [],
      "metadata": {
        "id": "cK_FRlWsw3ZV"
      },
      "execution_count": null,
      "outputs": []
    }
  ]
}